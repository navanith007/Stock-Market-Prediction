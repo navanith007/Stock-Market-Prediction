{
 "cells": [
  {
   "cell_type": "code",
   "execution_count": 2,
   "metadata": {},
   "outputs": [],
   "source": [
    "import numpy as np\n",
    "import pandas as pd\n",
    "import tensorflow as tf\n",
    "from keras.preprocessing.text import Tokenizer\n",
    "from keras.preprocessing import sequence\n",
    "import keras\n",
    "from sklearn.metrics import accuracy_score"
   ]
  },
  {
   "cell_type": "code",
   "execution_count": 3,
   "metadata": {},
   "outputs": [],
   "source": [
    "data_file = pd.read_csv(\"file1.csv\") #the whole dataset"
   ]
  },
  {
   "cell_type": "code",
   "execution_count": 4,
   "metadata": {},
   "outputs": [
    {
     "data": {
      "text/html": [
       "<div>\n",
       "<style scoped>\n",
       "    .dataframe tbody tr th:only-of-type {\n",
       "        vertical-align: middle;\n",
       "    }\n",
       "\n",
       "    .dataframe tbody tr th {\n",
       "        vertical-align: top;\n",
       "    }\n",
       "\n",
       "    .dataframe thead th {\n",
       "        text-align: right;\n",
       "    }\n",
       "</style>\n",
       "<table border=\"1\" class=\"dataframe\">\n",
       "  <thead>\n",
       "    <tr style=\"text-align: right;\">\n",
       "      <th></th>\n",
       "      <th>tomorrow</th>\n",
       "      <th>normalized_title</th>\n",
       "      <th>move_close</th>\n",
       "      <th>move_open</th>\n",
       "      <th>move_high</th>\n",
       "      <th>move_low</th>\n",
       "      <th>move_close_open</th>\n",
       "    </tr>\n",
       "  </thead>\n",
       "  <tbody>\n",
       "    <tr>\n",
       "      <th>0</th>\n",
       "      <td>1</td>\n",
       "      <td>respawn titanfall server stability microsoft a...</td>\n",
       "      <td>1</td>\n",
       "      <td>1</td>\n",
       "      <td>1</td>\n",
       "      <td>0</td>\n",
       "      <td>1</td>\n",
       "    </tr>\n",
       "    <tr>\n",
       "      <th>1</th>\n",
       "      <td>1</td>\n",
       "      <td>titanfall launches tuesday microsoft hopes boo...</td>\n",
       "      <td>1</td>\n",
       "      <td>1</td>\n",
       "      <td>1</td>\n",
       "      <td>0</td>\n",
       "      <td>1</td>\n",
       "    </tr>\n",
       "    <tr>\n",
       "      <th>2</th>\n",
       "      <td>1</td>\n",
       "      <td>microsoft titanfall could game changer xbox one</td>\n",
       "      <td>1</td>\n",
       "      <td>1</td>\n",
       "      <td>1</td>\n",
       "      <td>0</td>\n",
       "      <td>1</td>\n",
       "    </tr>\n",
       "    <tr>\n",
       "      <th>3</th>\n",
       "      <td>1</td>\n",
       "      <td>titanfall xbox one launch microsoft releases c...</td>\n",
       "      <td>1</td>\n",
       "      <td>1</td>\n",
       "      <td>1</td>\n",
       "      <td>0</td>\n",
       "      <td>1</td>\n",
       "    </tr>\n",
       "    <tr>\n",
       "      <th>4</th>\n",
       "      <td>1</td>\n",
       "      <td>microsoft xbox one titanfall another non 1080p...</td>\n",
       "      <td>1</td>\n",
       "      <td>1</td>\n",
       "      <td>1</td>\n",
       "      <td>0</td>\n",
       "      <td>1</td>\n",
       "    </tr>\n",
       "  </tbody>\n",
       "</table>\n",
       "</div>"
      ],
      "text/plain": [
       "   tomorrow                                   normalized_title  move_close  \\\n",
       "0         1  respawn titanfall server stability microsoft a...           1   \n",
       "1         1  titanfall launches tuesday microsoft hopes boo...           1   \n",
       "2         1    microsoft titanfall could game changer xbox one           1   \n",
       "3         1  titanfall xbox one launch microsoft releases c...           1   \n",
       "4         1  microsoft xbox one titanfall another non 1080p...           1   \n",
       "\n",
       "   move_open  move_high  move_low  move_close_open  \n",
       "0          1          1         0                1  \n",
       "1          1          1         0                1  \n",
       "2          1          1         0                1  \n",
       "3          1          1         0                1  \n",
       "4          1          1         0                1  "
      ]
     },
     "execution_count": 4,
     "metadata": {},
     "output_type": "execute_result"
    }
   ],
   "source": [
    "data_file.head()"
   ]
  },
  {
   "cell_type": "code",
   "execution_count": 5,
   "metadata": {},
   "outputs": [],
   "source": [
    "def class_predict(df):\n",
    "    \"\"\"\n",
    "    This function predicts the label of the data using tensorflow saved model\n",
    "    \n",
    "    parameters:\n",
    "        df (dataframe) : The shape of the dataframe should be (None, 6) and it contains the news data and encoded data\n",
    "    \n",
    "    returns:\n",
    "        array: returns the predicted label for each data point\n",
    "    \"\"\"\n",
    "    tokenizer = Tokenizer(2000)       #tokenizing the text data set for top 2000 words\n",
    "    tokenizer.fit_on_texts(df.normalized_title)\n",
    "    all_news_x = tokenizer.texts_to_sequences(df.normalized_title) #tokenizing the normalized_title\n",
    "    all_cat_x = df[['move_close', 'move_open', 'move_high', 'move_low', 'move_close_open']].values[:] #getting categorical vars\n",
    "    max_review_length = 100\n",
    "    all_news_x_pad = sequence.pad_sequences(all_news_x, maxlen=max_review_length)# pad the sentences such that max_len is 100\n",
    "    \n",
    "    new_model = keras.models.load_model('saved_model/final_model') #loading the saved model\n",
    "    \n",
    "    y_predict_prob =  new_model.predict([all_news_x_pad, all_cat_x]) #predicting the label with text and categorical data\n",
    "    class_label = lambda x: 1 if(x>=0.5) else 0   #lambda function which converts the prob to class label\n",
    "    y_predict = np.array([class_label(xi) for xi in y_predict_prob]) #calling the lambda function to convert to class labels\n",
    "    \n",
    "    return y_predict"
   ]
  },
  {
   "cell_type": "code",
   "execution_count": 6,
   "metadata": {},
   "outputs": [
    {
     "name": "stderr",
     "output_type": "stream",
     "text": [
      "C:\\Users\\91701\\anaconda3\\envs\\deep_learning1\\lib\\site-packages\\tensorflow\\python\\framework\\indexed_slices.py:434: UserWarning: Converting sparse IndexedSlices to a dense Tensor of unknown shape. This may consume a large amount of memory.\n",
      "  \"Converting sparse IndexedSlices to a dense Tensor of unknown shape. \"\n"
     ]
    }
   ],
   "source": [
    "y_predict = class_predict(data_file)"
   ]
  },
  {
   "cell_type": "code",
   "execution_count": 12,
   "metadata": {},
   "outputs": [],
   "source": [
    "def accuracy_calc(x_data, y_data):\n",
    "    \"\"\"\n",
    "    This function predicts label using x_data and then finds the accuracy for predicted and actual label(y_data)\n",
    "    \n",
    "    parameters:\n",
    "        x_data (df): Shape of array is (None, 6) and it contains the text normalised data\n",
    "        y_data (df): shape of the array is (None,) and it contains the actual label of the data\n",
    "\n",
    "    returns:\n",
    "        float: accuracy_score of the predicted label and true label\n",
    "    \"\"\"\n",
    "    tokenizer = Tokenizer(2000)       #tokenizing the text data set for top 2000 words\n",
    "    tokenizer.fit_on_texts(x_data.normalized_title)\n",
    "    all_news_x = tokenizer.texts_to_sequences(x_data.normalized_title) #tokenizing the normalized_title\n",
    "    all_cat_x = x_data[['move_close', 'move_open', 'move_high', 'move_low', 'move_close_open']].values[:] #getting categorical vars\n",
    "    max_review_length = 100\n",
    "    all_news_x_pad = sequence.pad_sequences(all_news_x, maxlen=max_review_length)# pad the sentences such that max_len is 100\n",
    "    \n",
    "    new_model = keras.models.load_model('saved_model/final_model') #loading the saved model\n",
    "    \n",
    "    y_predict_prob =  new_model.predict([all_news_x_pad, all_cat_x]) #predicting the label with text and categorical data\n",
    "    class_label = lambda x: 1 if(x>=0.5) else 0   #lambda function which converts the prob to class label\n",
    "    y_predict = np.array([class_label(xi) for xi in y_predict_prob]) #calling the lambda function to convert to class labels\n",
    "    \n",
    "    accuracy = accuracy_score(y_data, y_predict)\n",
    "    \n",
    "    return accuracy"
   ]
  },
  {
   "cell_type": "code",
   "execution_count": 13,
   "metadata": {},
   "outputs": [],
   "source": [
    "accuracy = accuracy_calc(data_file.iloc[:, 1:], data_file[[\"tomorrow\"]])"
   ]
  },
  {
   "cell_type": "code",
   "execution_count": 14,
   "metadata": {},
   "outputs": [
    {
     "data": {
      "text/plain": [
       "0.9644906187005737"
      ]
     },
     "execution_count": 14,
     "metadata": {},
     "output_type": "execute_result"
    }
   ],
   "source": [
    "#accuracy of the whole dataset\n",
    "accuracy"
   ]
  }
 ],
 "metadata": {
  "kernelspec": {
   "display_name": "Python 3",
   "language": "python",
   "name": "python3"
  },
  "language_info": {
   "codemirror_mode": {
    "name": "ipython",
    "version": 3
   },
   "file_extension": ".py",
   "mimetype": "text/x-python",
   "name": "python",
   "nbconvert_exporter": "python",
   "pygments_lexer": "ipython3",
   "version": "3.7.6"
  }
 },
 "nbformat": 4,
 "nbformat_minor": 4
}
