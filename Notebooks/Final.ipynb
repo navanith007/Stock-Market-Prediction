{
 "cells": [
  {
   "cell_type": "code",
   "execution_count": 49,
   "metadata": {},
   "outputs": [],
   "source": [
    "import numpy as np\n",
    "import tensorflow as tf"
   ]
  },
  {
   "cell_type": "code",
   "execution_count": 50,
   "metadata": {},
   "outputs": [],
   "source": [
    "#Loading test data and test label from .npy files\n",
    "x_test = np.load('../Dataset/nasdaq/final_data/test/x_test_normalised.npy')    \n",
    "y_test = np.load('../Dataset/nasdaq/final_data/test/y_test_normalised.npy')\n",
    "\n",
    "#Loading standardised parameters from .npy files\n",
    "data_mean = np.load('../Dataset/nasdaq/final_data/standardization/data_mean.npy')\n",
    "data_std = np.load('../Dataset/nasdaq/final_data/standardization/data_std.npy')"
   ]
  },
  {
   "cell_type": "code",
   "execution_count": 51,
   "metadata": {},
   "outputs": [],
   "source": [
    "#need to squueze files as the arrays are appended into an array\n",
    "x_test = x_test.squeeze()\n",
    "y_test = y_test.squeeze()\n",
    "data_mean = data_mean.squeeze()\n",
    "data_std = data_std.squeeze()"
   ]
  },
  {
   "cell_type": "code",
   "execution_count": 52,
   "metadata": {},
   "outputs": [],
   "source": [
    "#https://stackoverflow.com/questions/47648133/mape-calculation-in-python\n",
    "def mean_absolute_percentage_error(y_true, y_pred):\n",
    "    \n",
    "    \"\"\"\n",
    "    This function calculates the mape error of true values and predicted values\n",
    "    \n",
    "    parameters:\n",
    "        y_true (float): true label  of the data\n",
    "        y_predict(float): predicted label of the data\n",
    "    \n",
    "    returns:\n",
    "        float: mape error of true and predicted labels \n",
    "    \"\"\"\n",
    "    \n",
    "    y_true, y_pred = np.array(y_true), np.array(y_pred)\n",
    "    \n",
    "    return np.mean(np.abs((y_true - y_pred) / y_true))"
   ]
  },
  {
   "cell_type": "code",
   "execution_count": 53,
   "metadata": {},
   "outputs": [],
   "source": [
    "def function1(x_test):\n",
    "    \"\"\"\n",
    "    This function predicts the label of the data using tensorflow saved model\n",
    "    \n",
    "    parameters:\n",
    "        x_test (array) : The shape of the array should be (None, 10, 5) and it contains the test normalised data\n",
    "    \n",
    "    returns:\n",
    "        array: returns the predicted label for each data point\n",
    "    \"\"\"\n",
    "    new_model = tf.keras.models.load_model('saved_model/my_model')\n",
    "    \n",
    "    y_test_predict =  new_model.predict(x_test)\n",
    "    \n",
    "    #reverse-normalise the predicted data\n",
    "    y_test_predict = (y_test_predict * data_std[-1] ) + data_mean[-1]\n",
    "    \n",
    "    return y_test_predict"
   ]
  },
  {
   "cell_type": "code",
   "execution_count": 54,
   "metadata": {},
   "outputs": [],
   "source": [
    "y_test_predict = function1(x_test)"
   ]
  },
  {
   "cell_type": "code",
   "execution_count": 55,
   "metadata": {},
   "outputs": [],
   "source": [
    "def function2(x_test, y_test):\n",
    "    \"\"\"\n",
    "    This function predicts label using x_test and then finds the error for predicted and actual label\n",
    "    \n",
    "    parameters:\n",
    "        x_test (array): Shape of array is (None, 10, 5) and it contains the test normalised data\n",
    "        y_test (array): shape of the array is (None,) and it contains the actual label of the data\n",
    "\n",
    "    returns:\n",
    "        float: error of the predicted label and true label\n",
    "    \"\"\"\n",
    "    new_model = tf.keras.models.load_model('saved_model/my_model')\n",
    "    \n",
    "    y_test_predict = new_model.predict(x_test)\n",
    "    \n",
    "    #reverse-normalising the y_test and y_test_predict data\n",
    "    y_test_predict = (y_test_predict * data_std[-1] ) + data_mean[-1]\n",
    "    y_test = (y_test * data_std[-1] ) + data_mean[-1]\n",
    "    \n",
    "    error_metric = mean_absolute_percentage_error(y_test, y_test_predict)\n",
    "    \n",
    "    return error_metric"
   ]
  },
  {
   "cell_type": "code",
   "execution_count": 56,
   "metadata": {},
   "outputs": [],
   "source": [
    "mape_error = function2(x_test, y_test)"
   ]
  },
  {
   "cell_type": "code",
   "execution_count": 57,
   "metadata": {},
   "outputs": [
    {
     "data": {
      "text/plain": [
       "0.23028757122005095"
      ]
     },
     "execution_count": 57,
     "metadata": {},
     "output_type": "execute_result"
    }
   ],
   "source": [
    "#https://www.researchgate.net/figure/nterpretation-of-typical-MAPE-values_tbl1_257812432\n",
    "mape_error"
   ]
  }
 ],
 "metadata": {
  "kernelspec": {
   "display_name": "Python 3",
   "language": "python",
   "name": "python3"
  },
  "language_info": {
   "codemirror_mode": {
    "name": "ipython",
    "version": 3
   },
   "file_extension": ".py",
   "mimetype": "text/x-python",
   "name": "python",
   "nbconvert_exporter": "python",
   "pygments_lexer": "ipython3",
   "version": "3.7.6"
  }
 },
 "nbformat": 4,
 "nbformat_minor": 4
}
