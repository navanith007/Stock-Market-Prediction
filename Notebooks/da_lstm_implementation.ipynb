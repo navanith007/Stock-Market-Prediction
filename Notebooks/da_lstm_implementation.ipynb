{
 "cells": [
  {
   "cell_type": "code",
   "execution_count": 1,
   "metadata": {},
   "outputs": [],
   "source": [
    "import numpy as np\n",
    "import pandas as pd\n",
    "import tensorflow as tf\n",
    "from tensorflow.keras.preprocessing.text import Tokenizer\n",
    "from tensorflow.keras.preprocessing.sequence import pad_sequences\n",
    "from tensorflow.keras.layers import Input, Softmax, RNN, Dense, Embedding, LSTM, Flatten\n",
    "import tensorflow.keras.backend as K"
   ]
  },
  {
   "cell_type": "code",
   "execution_count": 2,
   "metadata": {},
   "outputs": [],
   "source": [
    "class EncoderAttention(tf.keras.layers.Layer):\n",
    "    def __init__(self, **kwargs):\n",
    "        super(EncoderAttention, self).__init__(**kwargs)\n",
    "    \n",
    "    def build(self, input_shape):\n",
    "        self.W_e = self.add_weight(name = \"attention_weight1\", shape = (input_shape[1], input_shape[1]), initializer = \"normal\")\n",
    "        self.V_e = self.add_weight(name = \"attention_weight2\", shape = (1, input_shape[1]), initializer = \"normal\")\n",
    "        super(EncoderAttention, self).build(input_shape)\n",
    "    \n",
    "    def call(self, x):\n",
    "        \n",
    "        output_1 = tf.tanh(tf.matmul(self.W_e, x))\n",
    "        output_2 = tf.matmul(self.V_e, output_1)\n",
    "        output_3 = tf.squeeze(output_2)\n",
    "        attention_weights = tf.nn.softmax(output_3, axis = 1)\n",
    "        return attention_weights"
   ]
  },
  {
   "cell_type": "code",
   "execution_count": 3,
   "metadata": {},
   "outputs": [],
   "source": [
    "attention_input = tf.random.uniform(shape = [16, 74, 5])\n",
    "attention_1 = EncoderAttention()\n",
    "attention_weights = attention_1(attention_input)"
   ]
  },
  {
   "cell_type": "code",
   "execution_count": 4,
   "metadata": {},
   "outputs": [],
   "source": [
    "class Encoder(tf.keras.Model):\n",
    "    \n",
    "    def __init__(self, input_size, enc_lstm_hid_size, time_steps, return_encoded = False, **kwargs):\n",
    "        \n",
    "        super(Encoder, self).__init__(**kwargs)\n",
    "        \n",
    "        self.input_size = input_size\n",
    "        self.hid_units = enc_lstm_hid_size\n",
    "        self.time_steps = time_steps\n",
    "        self.return_encoded = return_encoded\n",
    "        \n",
    "        self.lstm = LSTM(self.hid_units, return_state = True, return_sequences = True, name = \"encoder_lstm\")\n",
    "        self.att_layer = EncoderAttention(name = \"encoder_attention\")\n",
    "    \n",
    "    def call(self, input_data):\n",
    "        \n",
    "        input_weighted = tf.TensorArray(tf.float32, size = input_data.shape[1], name = \"weighted_input\")\n",
    "        input_encoded = tf.TensorArray(tf.float32, size = input_data.shape[1], name = \"input_encoded\")\n",
    "        \n",
    "        batch_size = input_data.shape[0]\n",
    "        hidden_state = tf.zeros(shape = [batch_size, self.hid_units])\n",
    "        cell_state = tf.zeros(shape = [batch_size, self.hid_units])\n",
    "        \n",
    "        for t in range(self.time_steps):\n",
    "            x = tf.concat(values = [tf.repeat(tf.expand_dims(hidden_state, axis = 2), repeats = self.input_size, axis = 2),\n",
    "                          tf.repeat(tf.expand_dims(cell_state, axis = 2), repeats = self.input_size, axis = 2),\n",
    "                          input_data], axis = 1)\n",
    "            \n",
    "            x = self.att_layer(x)\n",
    "            att_weights = K.softmax(x, axis = 1)\n",
    "            weighted_input = tf.math.multiply(att_weights, input_data[:, t, :])\n",
    "            lstm_input = tf.expand_dims(weighted_input, axis = 1)\n",
    "            \n",
    "            #https://stackoverflow.com/questions/42415909/initializing-lstm-hidden-state-tensorflow-keras\n",
    "            lstm_output, hidden_state, cell_state = self.lstm(lstm_input, initial_state = [hidden_state, cell_state])\n",
    "            input_weighted = input_weighted.write(t, weighted_input)\n",
    "            input_encoded = input_encoded.write(t, hidden_state)\n",
    "        \n",
    "        \n",
    "        input_weighted = tf.transpose(input_weighted.stack(), perm = [1, 0, 2])\n",
    "        input_encoded = tf.transpose(input_encoded.stack(), perm = [1, 0, 2])\n",
    "        \n",
    "        if self.return_encoded:\n",
    "            return input_weighted, input_encoded\n",
    "        else:\n",
    "            return input_weighted\n",
    "        "
   ]
  },
  {
   "cell_type": "code",
   "execution_count": 9,
   "metadata": {},
   "outputs": [],
   "source": [
    "input_size = 5\n",
    "time_steps = 10\n",
    "hidden_size = 32\n",
    "batch_size = 16\n",
    "input_data = tf.random.uniform(shape = [batch_size, time_steps, input_size])\n",
    "encoder_1 = Encoder(input_size, hidden_size, time_steps, return_encoded = True)\n",
    "input_weighted, input_encoded = encoder_1(input_data)"
   ]
  },
  {
   "cell_type": "code",
   "execution_count": 12,
   "metadata": {},
   "outputs": [],
   "source": [
    "class DecoderAttention(tf.keras.layers.Layer):\n",
    "    def __init__(self, **kwargs):\n",
    "        super(DecoderAttention, self).__init__(**kwargs)\n",
    "    \n",
    "    def build(self, input_shape):\n",
    "        self.W_e = self.add_weight(name = \"decoder_attention_weight1\", shape = (input_shape[1], input_shape[1]), initializer = \"normal\")\n",
    "        self.V_e = self.add_weight(name = \"decoder_attention_weight2\", shape = (1, input_shape[1]), initializer = \"normal\")\n",
    "        super(DecoderAttention, self).build(input_shape)\n",
    "    \n",
    "    def call(self, x):\n",
    "        \n",
    "        output_1 = tf.tanh(tf.matmul(self.W_e, x))\n",
    "        output_2 = tf.matmul(self.V_e, output_1)\n",
    "        output_3 = tf.squeeze(output_2)\n",
    "        attention_weights = tf.nn.softmax(output_3, axis = 1)\n",
    "        return attention_weights"
   ]
  },
  {
   "cell_type": "code",
   "execution_count": 111,
   "metadata": {},
   "outputs": [],
   "source": [
    "class Decoder(tf.keras.Model):\n",
    "    \n",
    "    def __init__(self, encoder_hidden_size, decoder_hidden_size, time_steps, **Kwargs):\n",
    "        \n",
    "        super(Decoder, self).__init__(**Kwargs)\n",
    "        self.time_steps = time_steps\n",
    "        self.encoder_hidden_size = encoder_hidden_size\n",
    "        self.decoder_hidden_size = decoder_hidden_size\n",
    "        \n",
    "        self.lstm = LSTM(self.decoder_hidden_size, return_state = True, return_sequences = True, name = \"decoder_lstm\")\n",
    "        self.att_layer = DecoderAttention(name = \"decoder_attention\")\n",
    "        self.dense_1 = Dense(1, name = \"decoder_dense_1\")\n",
    "        self.dense_2 = Dense(1, name = \"decoder_dense_2\")\n",
    "    \n",
    "    def call(self, input_encoded, y_history):\n",
    "        \n",
    "        batch_size = input_encoded.shape[0]\n",
    "        input_encoded_size = input_encoded.shape[2]\n",
    "        hidden_state = tf.zeros(shape = [batch_size, self.decoder_hidden_size])\n",
    "        cell_state = tf.zeros(shape = [batch_size, self.decoder_hidden_size])\n",
    "        \n",
    "        \n",
    "        for time in range(self.time_steps):\n",
    "            \n",
    "            x = tf.concat(values = [tf.repeat(tf.expand_dims(hidden_state, axis = 2), repeats = self.time_steps, axis = 2),\n",
    "                          tf.repeat(tf.expand_dims(cell_state, axis = 2), repeats = self.time_steps, axis = 2),\n",
    "                          tf.transpose(input_encoded, perm = [0, 2, 1])], axis = 1)\n",
    "            #print(x.shape)\n",
    "            \n",
    "            x = self.att_layer(x)\n",
    "            att_weights = K.softmax(x, axis = 1)\n",
    "            #print(att_weights.shape)\n",
    "            #print(np.sum(att_weights[1, :]))\n",
    "            \n",
    "            att_weights = tf.expand_dims(att_weights, axis = 2)\n",
    "            weighted_encoded = tf.math.multiply(att_weights, input_encoded)\n",
    "            #print(weighted_encoded.shape)\n",
    "            \n",
    "            context_vector = K.sum(weighted_encoded, axis = 1)\n",
    "            #print(context_vector.shape)\n",
    "            \n",
    "            if(time < self.time_steps - 1):\n",
    "                y_tilde = self.dense_1(tf.concat(values = [tf.expand_dims(tf.expand_dims(y_history[:, time], axis = 1), axis = 1),\n",
    "                                               tf.expand_dims(context_vector, axis = 1)], axis = 2))\n",
    "                #print(y_tilde.shape)\n",
    "                lstm_output, hidden_state, cell_state = self.lstm(y_tilde, initial_state = [hidden_state, cell_state])\n",
    "                #print(lstm_output.shape)\n",
    "                #print(hidden_state.shape)\n",
    "                #print(cell_state.shape)\n",
    "            \n",
    "        concat_final_input = tf.concat(values = [hidden_state, context_vector], axis = 1)\n",
    "        #print(tf.expand_dims(concat_final_input, axis = 1).shape)\n",
    "        y_pred = self.dense_2(concat_final_input)\n",
    "        print(y_pred.shape)\n",
    "            \n",
    "        "
   ]
  },
  {
   "cell_type": "code",
   "execution_count": 89,
   "metadata": {},
   "outputs": [
    {
     "name": "stdout",
     "output_type": "stream",
     "text": [
      "(16,)\n"
     ]
    }
   ],
   "source": [
    "print(y_history[:, 0].shape)"
   ]
  },
  {
   "cell_type": "code",
   "execution_count": 112,
   "metadata": {},
   "outputs": [
    {
     "name": "stdout",
     "output_type": "stream",
     "text": [
      "(16, 1)\n"
     ]
    }
   ],
   "source": [
    "#print(input_encoded.shape)\n",
    "time_steps = 10\n",
    "\n",
    "encoder_hidden_size = 32\n",
    "decoder_hidden_size = 16\n",
    "\n",
    "batch_size = 16\n",
    "y_history = tf.random.uniform(shape = [batch_size, time_steps])\n",
    "decoder_1 = Decoder(encoder_hidden_size, decoder_hidden_size, time_steps)\n",
    "decoder_1(input_encoded, y_history)"
   ]
  }
 ],
 "metadata": {
  "kernelspec": {
   "display_name": "Python 3",
   "language": "python",
   "name": "python3"
  },
  "language_info": {
   "codemirror_mode": {
    "name": "ipython",
    "version": 3
   },
   "file_extension": ".py",
   "mimetype": "text/x-python",
   "name": "python",
   "nbconvert_exporter": "python",
   "pygments_lexer": "ipython3",
   "version": "3.7.6"
  }
 },
 "nbformat": 4,
 "nbformat_minor": 4
}
