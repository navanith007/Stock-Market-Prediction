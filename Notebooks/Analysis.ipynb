{
 "cells": [
  {
   "cell_type": "code",
   "execution_count": 1,
   "metadata": {},
   "outputs": [
    {
     "data": {
      "text/html": [
       "<script>$(\"div.input\").hide()</script>"
      ],
      "text/plain": [
       "<IPython.core.display.HTML object>"
      ]
     },
     "metadata": {},
     "output_type": "display_data"
    },
    {
     "data": {
      "application/vnd.jupyter.widget-view+json": {
       "model_id": "b89b93bc82994961bbc70f0c65e30a47",
       "version_major": 2,
       "version_minor": 0
      },
      "text/plain": [
       "ToggleButton(value=False, description='Show code')"
      ]
     },
     "metadata": {},
     "output_type": "display_data"
    },
    {
     "data": {
      "text/html": [
       "<script>$(\"div.input\").show()</script>"
      ],
      "text/plain": [
       "<IPython.core.display.HTML object>"
      ]
     },
     "metadata": {},
     "output_type": "display_data"
    },
    {
     "data": {
      "text/html": [
       "<script>$(\"div.input\").hide()</script>"
      ],
      "text/plain": [
       "<IPython.core.display.HTML object>"
      ]
     },
     "metadata": {},
     "output_type": "display_data"
    },
    {
     "data": {
      "text/html": [
       "<script>$(\"div.input\").show()</script>"
      ],
      "text/plain": [
       "<IPython.core.display.HTML object>"
      ]
     },
     "metadata": {},
     "output_type": "display_data"
    },
    {
     "data": {
      "text/html": [
       "<script>$(\"div.input\").hide()</script>"
      ],
      "text/plain": [
       "<IPython.core.display.HTML object>"
      ]
     },
     "metadata": {},
     "output_type": "display_data"
    },
    {
     "data": {
      "text/html": [
       "<script>$(\"div.input\").show()</script>"
      ],
      "text/plain": [
       "<IPython.core.display.HTML object>"
      ]
     },
     "metadata": {},
     "output_type": "display_data"
    },
    {
     "data": {
      "text/html": [
       "<script>$(\"div.input\").hide()</script>"
      ],
      "text/plain": [
       "<IPython.core.display.HTML object>"
      ]
     },
     "metadata": {},
     "output_type": "display_data"
    },
    {
     "data": {
      "text/html": [
       "<script>$(\"div.input\").show()</script>"
      ],
      "text/plain": [
       "<IPython.core.display.HTML object>"
      ]
     },
     "metadata": {},
     "output_type": "display_data"
    },
    {
     "data": {
      "text/html": [
       "<script>$(\"div.input\").hide()</script>"
      ],
      "text/plain": [
       "<IPython.core.display.HTML object>"
      ]
     },
     "metadata": {},
     "output_type": "display_data"
    },
    {
     "data": {
      "text/html": [
       "<script>$(\"div.input\").show()</script>"
      ],
      "text/plain": [
       "<IPython.core.display.HTML object>"
      ]
     },
     "metadata": {},
     "output_type": "display_data"
    },
    {
     "data": {
      "text/html": [
       "<script>$(\"div.input\").hide()</script>"
      ],
      "text/plain": [
       "<IPython.core.display.HTML object>"
      ]
     },
     "metadata": {},
     "output_type": "display_data"
    },
    {
     "data": {
      "text/html": [
       "<script>$(\"div.input\").show()</script>"
      ],
      "text/plain": [
       "<IPython.core.display.HTML object>"
      ]
     },
     "metadata": {},
     "output_type": "display_data"
    },
    {
     "data": {
      "text/html": [
       "<script>$(\"div.input\").hide()</script>"
      ],
      "text/plain": [
       "<IPython.core.display.HTML object>"
      ]
     },
     "metadata": {},
     "output_type": "display_data"
    },
    {
     "data": {
      "text/html": [
       "<script>$(\"div.input\").show()</script>"
      ],
      "text/plain": [
       "<IPython.core.display.HTML object>"
      ]
     },
     "metadata": {},
     "output_type": "display_data"
    },
    {
     "data": {
      "text/html": [
       "<script>$(\"div.input\").hide()</script>"
      ],
      "text/plain": [
       "<IPython.core.display.HTML object>"
      ]
     },
     "metadata": {},
     "output_type": "display_data"
    },
    {
     "data": {
      "text/html": [
       "<script>$(\"div.input\").show()</script>"
      ],
      "text/plain": [
       "<IPython.core.display.HTML object>"
      ]
     },
     "metadata": {},
     "output_type": "display_data"
    }
   ],
   "source": [
    "import ipywidgets as widgets\n",
    "from IPython.display import display, HTML\n",
    "\n",
    "javascript_functions = {False: \"hide()\", True: \"show()\"}\n",
    "button_descriptions  = {False: \"Show code\", True: \"Hide code\"}\n",
    "\n",
    "\n",
    "def toggle_code(state):\n",
    "\n",
    "    \"\"\"\n",
    "    Toggles the JavaScript show()/hide() function on the div.input element.\n",
    "    \"\"\"\n",
    "\n",
    "    output_string = \"<script>$(\\\"div.input\\\").{}</script>\"\n",
    "    output_args   = (javascript_functions[state],)\n",
    "    output        = output_string.format(*output_args)\n",
    "\n",
    "    display(HTML(output))\n",
    "\n",
    "\n",
    "def button_action(value):\n",
    "\n",
    "    \"\"\"\n",
    "    Calls the toggle_code function and updates the button description.\n",
    "    \"\"\"\n",
    "\n",
    "    state = value.new\n",
    "\n",
    "    toggle_code(state)\n",
    "\n",
    "    value.owner.description = button_descriptions[state]\n",
    "\n",
    "state = False\n",
    "toggle_code(state)\n",
    "\n",
    "button = widgets.ToggleButton(state, description = button_descriptions[state])\n",
    "button.observe(button_action, \"value\")\n",
    "\n",
    "display(button)"
   ]
  },
  {
   "cell_type": "markdown",
   "metadata": {},
   "source": [
    "# 1. Introduction"
   ]
  },
  {
   "cell_type": "markdown",
   "metadata": {},
   "source": [
    "## 1.1 Understanding Stock Market"
   ]
  },
  {
   "cell_type": "markdown",
   "metadata": {},
   "source": [
    "**1. Stock Market :**  \n",
    "A Stock market or Share Market is the aggregation of buyers and sellers of stocks which represent ownership claims on business. Investment in the stock market is most often done via [stockbrokerages](https://en.wikipedia.org/wiki/Stockbroker) and [electronic trading platforms] (https://en.wikipedia.org/wiki/Electronic_trading_platform). Investments is usually made with an investment strategy in mind.\n",
    "\n",
    "Every investor looks for a profit by buying stocks with low price and selling those stocks with high price. The price of stock usually depends on supply demand gap. Following points illustarate how the price of stocks changes.  \n",
    "1. If more number of buyers want to buy a share than the more number of sellers selling, then sellers are in control then can fix the price of the stock.\n",
    "2. If number of buyers are less than the number of sellers, then buyers are in control and the can fix the price.  \n",
    "\n",
    "**2. Stock Index :**  \n",
    "A Stock index or stock market index, is an index that measures a stock market or a subset of the stock market, that helps investors compare curretn price levels with past prices to calculate market performance.  \n",
    "\n",
    "The major stock indices in usa are:  \n",
    "a) [Nasdaq composite](https://en.wikipedia.org/wiki/NASDAQ_Composite)  \n",
    "b) [S&p 500](https://en.wikipedia.org/wiki/S%26P_500_Index)  \n",
    "c) [DJIA](https://en.wikipedia.org/wiki/Dow_Jones_Industrial_Average)  \n",
    "\n",
    "The major stock market indices in india are:  \n",
    "a) [BSE Sensex](https://en.wikipedia.org/wiki/BSE_SENSEX)  \n",
    "b) [NSE Nifty](https://en.wikipedia.org/wiki/NIFTY_50)  \n",
    "\n",
    "You can understand more about stock market [here](https://www.youtube.com/watch?v=ZCFkWDdmXG8).  \n"
   ]
  },
  {
   "cell_type": "markdown",
   "metadata": {},
   "source": [
    "## 1.2 problem Description  "
   ]
  },
  {
   "cell_type": "markdown",
   "metadata": {},
   "source": [
    "Every stock market index contains low, high, open, closing prices of every day stock prices.  \n",
    "**LOW:** low indicates the lowest price of the stock on that day.  \n",
    "**HIGH:** High indicates the highest price of the stock on that day.  \n",
    "**Open:** Open indicates the opening price of the stock on that day.  \n",
    "**Close:** Close indicates the closing price of the stock on that day.  \n",
    "\n",
    "If closig price is greater than selling price then it means sellers are in control. Otherwise, buyers are in control.  \n",
    "\n",
    "**The main objective in my problem is to predict the closing price of a stock market index.**  \n",
    "\n"
   ]
  },
  {
   "cell_type": "code",
   "execution_count": 23,
   "metadata": {},
   "outputs": [],
   "source": [
    "import os\n",
    "import pandas as pd\n",
    "import numpy as np\n",
    "import matplotlib as mpl\n",
    "import matplotlib.pyplot as plt\n",
    "from plotly.offline import plot\n",
    "import chart_studio.plotly as py\n",
    "import plotly.graph_objs as go\n",
    "from plotly.offline import iplot, init_notebook_mode\n",
    "import cufflinks as cf\n",
    "import plotly.express as px\n",
    "\n",
    "import ipywidgets as widgets\n",
    "from ipywidgets import interact, interact_manual"
   ]
  },
  {
   "cell_type": "markdown",
   "metadata": {},
   "source": [
    "# 2. Understanding the dataset"
   ]
  },
  {
   "cell_type": "code",
   "execution_count": 3,
   "metadata": {},
   "outputs": [
    {
     "name": "stdout",
     "output_type": "stream",
     "text": [
      "Top 5 rows of the dataset:\n"
     ]
    },
    {
     "data": {
      "text/html": [
       "<div>\n",
       "<style scoped>\n",
       "    .dataframe tbody tr th:only-of-type {\n",
       "        vertical-align: middle;\n",
       "    }\n",
       "\n",
       "    .dataframe tbody tr th {\n",
       "        vertical-align: top;\n",
       "    }\n",
       "\n",
       "    .dataframe thead th {\n",
       "        text-align: right;\n",
       "    }\n",
       "</style>\n",
       "<table border=\"1\" class=\"dataframe\">\n",
       "  <thead>\n",
       "    <tr style=\"text-align: right;\">\n",
       "      <th></th>\n",
       "      <th>Date</th>\n",
       "      <th>Open</th>\n",
       "      <th>High</th>\n",
       "      <th>Low</th>\n",
       "      <th>Close</th>\n",
       "      <th>Adj Close</th>\n",
       "      <th>Volume</th>\n",
       "    </tr>\n",
       "  </thead>\n",
       "  <tbody>\n",
       "    <tr>\n",
       "      <th>0</th>\n",
       "      <td>1991-01-02</td>\n",
       "      <td>373.000000</td>\n",
       "      <td>373.500000</td>\n",
       "      <td>371.799988</td>\n",
       "      <td>372.200012</td>\n",
       "      <td>372.200012</td>\n",
       "      <td>92020000</td>\n",
       "    </tr>\n",
       "    <tr>\n",
       "      <th>1</th>\n",
       "      <td>1991-01-03</td>\n",
       "      <td>371.200012</td>\n",
       "      <td>371.799988</td>\n",
       "      <td>367.399994</td>\n",
       "      <td>367.500000</td>\n",
       "      <td>367.500000</td>\n",
       "      <td>108390000</td>\n",
       "    </tr>\n",
       "    <tr>\n",
       "      <th>2</th>\n",
       "      <td>1991-01-04</td>\n",
       "      <td>366.500000</td>\n",
       "      <td>367.899994</td>\n",
       "      <td>365.899994</td>\n",
       "      <td>367.200012</td>\n",
       "      <td>367.200012</td>\n",
       "      <td>103830000</td>\n",
       "    </tr>\n",
       "    <tr>\n",
       "      <th>3</th>\n",
       "      <td>1991-01-07</td>\n",
       "      <td>363.500000</td>\n",
       "      <td>365.799988</td>\n",
       "      <td>360.100006</td>\n",
       "      <td>360.200012</td>\n",
       "      <td>360.200012</td>\n",
       "      <td>109460000</td>\n",
       "    </tr>\n",
       "    <tr>\n",
       "      <th>4</th>\n",
       "      <td>1991-01-08</td>\n",
       "      <td>359.100006</td>\n",
       "      <td>360.500000</td>\n",
       "      <td>358.200012</td>\n",
       "      <td>359.000000</td>\n",
       "      <td>359.000000</td>\n",
       "      <td>111730000</td>\n",
       "    </tr>\n",
       "  </tbody>\n",
       "</table>\n",
       "</div>"
      ],
      "text/plain": [
       "        Date        Open        High         Low       Close   Adj Close  \\\n",
       "0 1991-01-02  373.000000  373.500000  371.799988  372.200012  372.200012   \n",
       "1 1991-01-03  371.200012  371.799988  367.399994  367.500000  367.500000   \n",
       "2 1991-01-04  366.500000  367.899994  365.899994  367.200012  367.200012   \n",
       "3 1991-01-07  363.500000  365.799988  360.100006  360.200012  360.200012   \n",
       "4 1991-01-08  359.100006  360.500000  358.200012  359.000000  359.000000   \n",
       "\n",
       "      Volume  \n",
       "0   92020000  \n",
       "1  108390000  \n",
       "2  103830000  \n",
       "3  109460000  \n",
       "4  111730000  "
      ]
     },
     "execution_count": 3,
     "metadata": {},
     "output_type": "execute_result"
    }
   ],
   "source": [
    "data_path = '../DataSet/'\n",
    "raw_data = pd.read_csv(data_path + 'nasdaq/raw_data/finance.txt')\n",
    "raw_data[\"Date\"] = pd.to_datetime(raw_data[\"Date\"])\n",
    "print(\"Top 5 rows of the dataset:\")\n",
    "raw_data.head()"
   ]
  },
  {
   "cell_type": "markdown",
   "metadata": {},
   "source": [
    "The above data is the stock index of **nasdaq composite** from January 1st 1991 to June 19th 2020."
   ]
  },
  {
   "cell_type": "code",
   "execution_count": 4,
   "metadata": {},
   "outputs": [
    {
     "data": {
      "text/plain": [
       "Date         datetime64[ns]\n",
       "Open                float64\n",
       "High                float64\n",
       "Low                 float64\n",
       "Close               float64\n",
       "Adj Close           float64\n",
       "Volume                int64\n",
       "dtype: object"
      ]
     },
     "execution_count": 4,
     "metadata": {},
     "output_type": "execute_result"
    }
   ],
   "source": [
    "raw_data.dtypes"
   ]
  },
  {
   "cell_type": "code",
   "execution_count": 5,
   "metadata": {},
   "outputs": [
    {
     "name": "stdout",
     "output_type": "stream",
     "text": [
      "number of data points: 7424\n"
     ]
    }
   ],
   "source": [
    "print(\"number of data points:\", raw_data.shape[0])"
   ]
  },
  {
   "cell_type": "markdown",
   "metadata": {},
   "source": [
    "# Descriptive Analysis"
   ]
  },
  {
   "cell_type": "code",
   "execution_count": 6,
   "metadata": {},
   "outputs": [
    {
     "name": "stdout",
     "output_type": "stream",
     "text": [
      "Descriptive statistics of each column:\n"
     ]
    },
    {
     "data": {
      "application/vnd.jupyter.widget-view+json": {
       "model_id": "a1b57e1012e04b46a1b0273fb0e8588e",
       "version_major": 2,
       "version_minor": 0
      },
      "text/plain": [
       "interactive(children=(Dropdown(description='column', options=('Close', 'Open', 'High', 'Low', 'Volume'), value…"
      ]
     },
     "metadata": {},
     "output_type": "display_data"
    }
   ],
   "source": [
    "print(\"Descriptive statistics of each column:\")\n",
    "\n",
    "@interact\n",
    "def describe_each_column(column = [\"Close\", \"Open\", \"High\", \"Low\", \"Volume\"],\n",
    "                         start_date=widgets.DatePicker(value=pd.to_datetime('1991-01-02')),\n",
    "                         end_date=widgets.DatePicker(value=pd.to_datetime('2020-06-19'))\n",
    "                        ):\n",
    "    start_date = pd.to_datetime(start_date)\n",
    "    end_date = pd.to_datetime(end_date)\n",
    "    new_df = raw_data[(raw_data[\"Date\"] >= start_date) & (raw_data[\"Date\"] <= end_date)]\n",
    "    print(\"statistics of \"+ column + \" price between \" + str(start_date.date()) + \" and \" + str(end_date.date()) + \":\")\n",
    "    print(new_df[column].describe())"
   ]
  },
  {
   "cell_type": "markdown",
   "metadata": {},
   "source": [
    "# Feature Engineering"
   ]
  },
  {
   "cell_type": "markdown",
   "metadata": {},
   "source": [
    "## Date related features"
   ]
  },
  {
   "cell_type": "code",
   "execution_count": 19,
   "metadata": {},
   "outputs": [
    {
     "data": {
      "text/html": [
       "<div>\n",
       "<style scoped>\n",
       "    .dataframe tbody tr th:only-of-type {\n",
       "        vertical-align: middle;\n",
       "    }\n",
       "\n",
       "    .dataframe tbody tr th {\n",
       "        vertical-align: top;\n",
       "    }\n",
       "\n",
       "    .dataframe thead th {\n",
       "        text-align: right;\n",
       "    }\n",
       "</style>\n",
       "<table border=\"1\" class=\"dataframe\">\n",
       "  <thead>\n",
       "    <tr style=\"text-align: right;\">\n",
       "      <th></th>\n",
       "      <th>Date</th>\n",
       "      <th>Open</th>\n",
       "      <th>High</th>\n",
       "      <th>Low</th>\n",
       "      <th>Close</th>\n",
       "      <th>Adj Close</th>\n",
       "      <th>Volume</th>\n",
       "      <th>year</th>\n",
       "      <th>month</th>\n",
       "      <th>day</th>\n",
       "      <th>dayofweek_num</th>\n",
       "      <th>dayofweek_name</th>\n",
       "    </tr>\n",
       "  </thead>\n",
       "  <tbody>\n",
       "    <tr>\n",
       "      <th>0</th>\n",
       "      <td>1991-01-02</td>\n",
       "      <td>373.000000</td>\n",
       "      <td>373.500000</td>\n",
       "      <td>371.799988</td>\n",
       "      <td>372.200012</td>\n",
       "      <td>372.200012</td>\n",
       "      <td>92020000</td>\n",
       "      <td>1991</td>\n",
       "      <td>1</td>\n",
       "      <td>2</td>\n",
       "      <td>2</td>\n",
       "      <td>Wednesday</td>\n",
       "    </tr>\n",
       "    <tr>\n",
       "      <th>1</th>\n",
       "      <td>1991-01-03</td>\n",
       "      <td>371.200012</td>\n",
       "      <td>371.799988</td>\n",
       "      <td>367.399994</td>\n",
       "      <td>367.500000</td>\n",
       "      <td>367.500000</td>\n",
       "      <td>108390000</td>\n",
       "      <td>1991</td>\n",
       "      <td>1</td>\n",
       "      <td>3</td>\n",
       "      <td>3</td>\n",
       "      <td>Thursday</td>\n",
       "    </tr>\n",
       "    <tr>\n",
       "      <th>2</th>\n",
       "      <td>1991-01-04</td>\n",
       "      <td>366.500000</td>\n",
       "      <td>367.899994</td>\n",
       "      <td>365.899994</td>\n",
       "      <td>367.200012</td>\n",
       "      <td>367.200012</td>\n",
       "      <td>103830000</td>\n",
       "      <td>1991</td>\n",
       "      <td>1</td>\n",
       "      <td>4</td>\n",
       "      <td>4</td>\n",
       "      <td>Friday</td>\n",
       "    </tr>\n",
       "    <tr>\n",
       "      <th>3</th>\n",
       "      <td>1991-01-07</td>\n",
       "      <td>363.500000</td>\n",
       "      <td>365.799988</td>\n",
       "      <td>360.100006</td>\n",
       "      <td>360.200012</td>\n",
       "      <td>360.200012</td>\n",
       "      <td>109460000</td>\n",
       "      <td>1991</td>\n",
       "      <td>1</td>\n",
       "      <td>7</td>\n",
       "      <td>0</td>\n",
       "      <td>Monday</td>\n",
       "    </tr>\n",
       "    <tr>\n",
       "      <th>4</th>\n",
       "      <td>1991-01-08</td>\n",
       "      <td>359.100006</td>\n",
       "      <td>360.500000</td>\n",
       "      <td>358.200012</td>\n",
       "      <td>359.000000</td>\n",
       "      <td>359.000000</td>\n",
       "      <td>111730000</td>\n",
       "      <td>1991</td>\n",
       "      <td>1</td>\n",
       "      <td>8</td>\n",
       "      <td>1</td>\n",
       "      <td>Tuesday</td>\n",
       "    </tr>\n",
       "  </tbody>\n",
       "</table>\n",
       "</div>"
      ],
      "text/plain": [
       "        Date        Open        High         Low       Close   Adj Close  \\\n",
       "0 1991-01-02  373.000000  373.500000  371.799988  372.200012  372.200012   \n",
       "1 1991-01-03  371.200012  371.799988  367.399994  367.500000  367.500000   \n",
       "2 1991-01-04  366.500000  367.899994  365.899994  367.200012  367.200012   \n",
       "3 1991-01-07  363.500000  365.799988  360.100006  360.200012  360.200012   \n",
       "4 1991-01-08  359.100006  360.500000  358.200012  359.000000  359.000000   \n",
       "\n",
       "      Volume  year  month  day  dayofweek_num dayofweek_name  \n",
       "0   92020000  1991      1    2              2      Wednesday  \n",
       "1  108390000  1991      1    3              3       Thursday  \n",
       "2  103830000  1991      1    4              4         Friday  \n",
       "3  109460000  1991      1    7              0         Monday  \n",
       "4  111730000  1991      1    8              1        Tuesday  "
      ]
     },
     "execution_count": 19,
     "metadata": {},
     "output_type": "execute_result"
    }
   ],
   "source": [
    "processed_data = raw_data.copy()\n",
    "processed_data['year'] = processed_data[\"Date\"].dt.year                     #generatin year\n",
    "processed_data['month'] = processed_data['Date'].dt.month                   #generating month\n",
    "processed_data['day'] = processed_data['Date'].dt.day                       #genearating day\n",
    "processed_data['dayofweek_num'] = processed_data['Date'].dt.dayofweek       #generating week day number\n",
    "processed_data['dayofweek_name'] = processed_data['Date'].dt.day_name()     #generating week day name\n",
    "\n",
    "processed_data.head()"
   ]
  },
  {
   "cell_type": "markdown",
   "metadata": {},
   "source": [
    "## Lag based features  \n",
    "\n",
    "As we can see that the previous days closig price is highly correlated with today closing price we can use that value as feature.  \n"
   ]
  },
  {
   "cell_type": "code",
   "execution_count": 20,
   "metadata": {},
   "outputs": [],
   "source": [
    "processed_data['lag_1_closing_price'] = processed_data.Close.shift(1)"
   ]
  },
  {
   "cell_type": "markdown",
   "metadata": {},
   "source": [
    "## Buyers or sellers Control features"
   ]
  },
  {
   "cell_type": "markdown",
   "metadata": {},
   "source": [
    "In stock market if closig price is greater than opening price it means sellers are in control. Otherwise, buyers are in control. let's add this feature to the dataset.  \n"
   ]
  },
  {
   "cell_type": "code",
   "execution_count": 26,
   "metadata": {},
   "outputs": [],
   "source": [
    "processed_data['control_stock'] = processed_data.apply(\n",
    "    lambda x: 'sellersControl' if (x['Close'] > x['Open'])  else 'buyersControl' , axis = 1\n",
    "    )"
   ]
  },
  {
   "cell_type": "code",
   "execution_count": 29,
   "metadata": {},
   "outputs": [],
   "source": [
    "outdir = data_path + 'nasdaq/processed_data'\n",
    "outname = 'processed_finance.csv'\n",
    "if not os.path.exists(outdir):\n",
    "    os.mkdir(outdir)\n",
    "fullname = os.path.join(outdir, outname)\n",
    "processed_data.to_csv(fullname)"
   ]
  },
  {
   "cell_type": "markdown",
   "metadata": {},
   "source": [
    "# Exploratory Analysis"
   ]
  },
  {
   "cell_type": "markdown",
   "metadata": {},
   "source": [
    "## Exploratory analysis on raw data"
   ]
  },
  {
   "cell_type": "code",
   "execution_count": 54,
   "metadata": {
    "scrolled": false
   },
   "outputs": [
    {
     "name": "stdout",
     "output_type": "stream",
     "text": [
      "Exploring the time-series data of different prices:\n"
     ]
    },
    {
     "data": {
      "application/vnd.jupyter.widget-view+json": {
       "model_id": "c860fbbc7ea14cad98c167876bdd595b",
       "version_major": 2,
       "version_minor": 0
      },
      "text/plain": [
       "interactive(children=(Dropdown(description='price_column', options=('Close', 'Open', 'High', 'Low'), value='Cl…"
      ]
     },
     "metadata": {},
     "output_type": "display_data"
    }
   ],
   "source": [
    "print(\"Exploring the time-series data of different prices:\")\n",
    "@interact\n",
    "def plot_series_prices(price_column = [\"Close\", \"Open\", \"High\", \"Low\"],\n",
    "                      start_date=widgets.DatePicker(value=pd.to_datetime('1991-01-02')),\n",
    "                      end_date=widgets.DatePicker(value=pd.to_datetime('2020-06-19')),\n",
    "                      theme = [\"plotly_dark\", \"plotly_white\", \"plotly\", \"ggplot2\", \"seaborn\", \"simple_white\", \"none\"]\n",
    "                      ):\n",
    "    \n",
    "    start_date = pd.to_datetime(start_date)\n",
    "    end_date = pd.to_datetime(end_date)\n",
    "    new_df = raw_data[(raw_data[\"Date\"] >= start_date) & (raw_data[\"Date\"] <= end_date)]\n",
    "    fig = px.line(new_df, x = \"Date\", y = price_column, labels = {\"Date\": \"Date\", price_column: price_column + \" price\"},\n",
    "                     template = theme, title = price_column + \" price vs time\")\n",
    "    fig.show()"
   ]
  },
  {
   "cell_type": "code",
   "execution_count": 8,
   "metadata": {},
   "outputs": [
    {
     "name": "stdout",
     "output_type": "stream",
     "text": [
      "scatter plot between two columns:\n"
     ]
    },
    {
     "data": {
      "application/vnd.jupyter.widget-view+json": {
       "model_id": "ed8311c761df47d4a6057267acdf9af2",
       "version_major": 2,
       "version_minor": 0
      },
      "text/plain": [
       "interactive(children=(DatePicker(value=Timestamp('1991-01-02 00:00:00'), description='start_date'), DatePicker…"
      ]
     },
     "metadata": {},
     "output_type": "display_data"
    }
   ],
   "source": [
    "print(\"scatter plot between two columns:\")\n",
    "\n",
    "@interact\n",
    "def plot_scatter(\n",
    "                 start_date=widgets.DatePicker(value=pd.to_datetime('1991-01-02')),\n",
    "                 end_date=widgets.DatePicker(value=pd.to_datetime('2020-06-19')),\n",
    "                 x=list(raw_data.select_dtypes('number').columns),\n",
    "                 y=list(raw_data.select_dtypes('number').columns)[1:],\n",
    "                 theme = [\"plotly_dark\", \"plotly_white\", \"plotly\", \"ggplot2\", \"seaborn\", \"simple_white\", \"none\"]\n",
    "                ):\n",
    "    \n",
    "    fig = px.scatter(raw_data, x = x, y = y, labels = {x: x, y: y},\n",
    "                     template = theme)\n",
    "    fig.show()"
   ]
  },
  {
   "cell_type": "code",
   "execution_count": 9,
   "metadata": {},
   "outputs": [
    {
     "name": "stdout",
     "output_type": "stream",
     "text": [
      "correlation between two columns:\n"
     ]
    },
    {
     "data": {
      "application/vnd.jupyter.widget-view+json": {
       "model_id": "539128d8b0c043ee95ab60fb516f6205",
       "version_major": 2,
       "version_minor": 0
      },
      "text/plain": [
       "interactive(children=(DatePicker(value=Timestamp('1991-01-02 00:00:00'), description='start_date'), DatePicker…"
      ]
     },
     "metadata": {},
     "output_type": "display_data"
    }
   ],
   "source": [
    "print(\"correlation between two columns:\")\n",
    "\n",
    "@interact\n",
    "def plot_correlation(\n",
    "                     start_date=widgets.DatePicker(value=pd.to_datetime('1991-01-02')),\n",
    "                     end_date=widgets.DatePicker(value=pd.to_datetime('2020-06-19')),\n",
    "                     column1=list(raw_data.select_dtypes('number').columns),\n",
    "                     column2=list(raw_data.select_dtypes('number').columns)\n",
    "                    ):\n",
    "    \n",
    "    print(f\"correlation: {raw_data[column1].corr(raw_data[column2])}\")"
   ]
  },
  {
   "cell_type": "markdown",
   "metadata": {},
   "source": [
    "## Exploratory analysis on processed_data"
   ]
  },
  {
   "cell_type": "code",
   "execution_count": 30,
   "metadata": {},
   "outputs": [
    {
     "data": {
      "text/html": [
       "<div>\n",
       "<style scoped>\n",
       "    .dataframe tbody tr th:only-of-type {\n",
       "        vertical-align: middle;\n",
       "    }\n",
       "\n",
       "    .dataframe tbody tr th {\n",
       "        vertical-align: top;\n",
       "    }\n",
       "\n",
       "    .dataframe thead th {\n",
       "        text-align: right;\n",
       "    }\n",
       "</style>\n",
       "<table border=\"1\" class=\"dataframe\">\n",
       "  <thead>\n",
       "    <tr style=\"text-align: right;\">\n",
       "      <th></th>\n",
       "      <th>Date</th>\n",
       "      <th>Open</th>\n",
       "      <th>High</th>\n",
       "      <th>Low</th>\n",
       "      <th>Close</th>\n",
       "      <th>Adj Close</th>\n",
       "      <th>Volume</th>\n",
       "      <th>year</th>\n",
       "      <th>month</th>\n",
       "      <th>day</th>\n",
       "      <th>dayofweek_num</th>\n",
       "      <th>dayofweek_name</th>\n",
       "      <th>lag_1_closing_price</th>\n",
       "      <th>control_stock</th>\n",
       "    </tr>\n",
       "  </thead>\n",
       "  <tbody>\n",
       "    <tr>\n",
       "      <th>0</th>\n",
       "      <td>1991-01-02</td>\n",
       "      <td>373.000000</td>\n",
       "      <td>373.500000</td>\n",
       "      <td>371.799988</td>\n",
       "      <td>372.200012</td>\n",
       "      <td>372.200012</td>\n",
       "      <td>92020000</td>\n",
       "      <td>1991</td>\n",
       "      <td>1</td>\n",
       "      <td>2</td>\n",
       "      <td>2</td>\n",
       "      <td>Wednesday</td>\n",
       "      <td>NaN</td>\n",
       "      <td>buyersControl</td>\n",
       "    </tr>\n",
       "    <tr>\n",
       "      <th>1</th>\n",
       "      <td>1991-01-03</td>\n",
       "      <td>371.200012</td>\n",
       "      <td>371.799988</td>\n",
       "      <td>367.399994</td>\n",
       "      <td>367.500000</td>\n",
       "      <td>367.500000</td>\n",
       "      <td>108390000</td>\n",
       "      <td>1991</td>\n",
       "      <td>1</td>\n",
       "      <td>3</td>\n",
       "      <td>3</td>\n",
       "      <td>Thursday</td>\n",
       "      <td>372.200012</td>\n",
       "      <td>buyersControl</td>\n",
       "    </tr>\n",
       "    <tr>\n",
       "      <th>2</th>\n",
       "      <td>1991-01-04</td>\n",
       "      <td>366.500000</td>\n",
       "      <td>367.899994</td>\n",
       "      <td>365.899994</td>\n",
       "      <td>367.200012</td>\n",
       "      <td>367.200012</td>\n",
       "      <td>103830000</td>\n",
       "      <td>1991</td>\n",
       "      <td>1</td>\n",
       "      <td>4</td>\n",
       "      <td>4</td>\n",
       "      <td>Friday</td>\n",
       "      <td>367.500000</td>\n",
       "      <td>sellersControl</td>\n",
       "    </tr>\n",
       "    <tr>\n",
       "      <th>3</th>\n",
       "      <td>1991-01-07</td>\n",
       "      <td>363.500000</td>\n",
       "      <td>365.799988</td>\n",
       "      <td>360.100006</td>\n",
       "      <td>360.200012</td>\n",
       "      <td>360.200012</td>\n",
       "      <td>109460000</td>\n",
       "      <td>1991</td>\n",
       "      <td>1</td>\n",
       "      <td>7</td>\n",
       "      <td>0</td>\n",
       "      <td>Monday</td>\n",
       "      <td>367.200012</td>\n",
       "      <td>buyersControl</td>\n",
       "    </tr>\n",
       "    <tr>\n",
       "      <th>4</th>\n",
       "      <td>1991-01-08</td>\n",
       "      <td>359.100006</td>\n",
       "      <td>360.500000</td>\n",
       "      <td>358.200012</td>\n",
       "      <td>359.000000</td>\n",
       "      <td>359.000000</td>\n",
       "      <td>111730000</td>\n",
       "      <td>1991</td>\n",
       "      <td>1</td>\n",
       "      <td>8</td>\n",
       "      <td>1</td>\n",
       "      <td>Tuesday</td>\n",
       "      <td>360.200012</td>\n",
       "      <td>buyersControl</td>\n",
       "    </tr>\n",
       "  </tbody>\n",
       "</table>\n",
       "</div>"
      ],
      "text/plain": [
       "        Date        Open        High         Low       Close   Adj Close  \\\n",
       "0 1991-01-02  373.000000  373.500000  371.799988  372.200012  372.200012   \n",
       "1 1991-01-03  371.200012  371.799988  367.399994  367.500000  367.500000   \n",
       "2 1991-01-04  366.500000  367.899994  365.899994  367.200012  367.200012   \n",
       "3 1991-01-07  363.500000  365.799988  360.100006  360.200012  360.200012   \n",
       "4 1991-01-08  359.100006  360.500000  358.200012  359.000000  359.000000   \n",
       "\n",
       "      Volume  year  month  day  dayofweek_num dayofweek_name  \\\n",
       "0   92020000  1991      1    2              2      Wednesday   \n",
       "1  108390000  1991      1    3              3       Thursday   \n",
       "2  103830000  1991      1    4              4         Friday   \n",
       "3  109460000  1991      1    7              0         Monday   \n",
       "4  111730000  1991      1    8              1        Tuesday   \n",
       "\n",
       "   lag_1_closing_price   control_stock  \n",
       "0                  NaN   buyersControl  \n",
       "1           372.200012   buyersControl  \n",
       "2           367.500000  sellersControl  \n",
       "3           367.200012   buyersControl  \n",
       "4           360.200012   buyersControl  "
      ]
     },
     "execution_count": 30,
     "metadata": {},
     "output_type": "execute_result"
    }
   ],
   "source": [
    "processed_data.head()"
   ]
  },
  {
   "cell_type": "code",
   "execution_count": 53,
   "metadata": {},
   "outputs": [
    {
     "name": "stdout",
     "output_type": "stream",
     "text": [
      "getting count of the data whether how many times sellers are in control and buyers are in control:\n"
     ]
    },
    {
     "data": {
      "application/vnd.jupyter.widget-view+json": {
       "model_id": "6526793d6f504b08a126a9483293ea75",
       "version_major": 2,
       "version_minor": 0
      },
      "text/plain": [
       "interactive(children=(DatePicker(value=Timestamp('1991-01-02 00:00:00'), description='start_date'), DatePicker…"
      ]
     },
     "metadata": {},
     "output_type": "display_data"
    }
   ],
   "source": [
    "print(\"getting count of the data whether how many times sellers are in control and buyers are in control:\")\n",
    "\n",
    "@interact\n",
    "def plot_count_control(\n",
    "                        start_date=widgets.DatePicker(value=pd.to_datetime('1991-01-02')),\n",
    "                        end_date=widgets.DatePicker(value=pd.to_datetime('2020-06-19')),\n",
    "                        theme = [\"plotly_dark\", \"plotly_white\", \"plotly\", \"ggplot2\", \"seaborn\", \"simple_white\", \"none\"]\n",
    "                      ):\n",
    "    \n",
    "    start_date = pd.to_datetime(start_date)\n",
    "    end_date = pd.to_datetime(end_date)\n",
    "    new_df = processed_data[(processed_data[\"Date\"] >= start_date) & (processed_data[\"Date\"] <= end_date)]\n",
    "    counts = new_df.control_stock.value_counts()\n",
    "    df_counts = pd.DataFrame(counts).reset_index()\n",
    "    df_counts.columns = ['control_stock', 'count']\n",
    "    print(df_counts)\n",
    "    fig = px.bar(df_counts, x = 'control_stock', y = 'count', template = theme)\n",
    "    fig.show()"
   ]
  },
  {
   "cell_type": "code",
   "execution_count": 96,
   "metadata": {
    "scrolled": false
   },
   "outputs": [
    {
     "name": "stdout",
     "output_type": "stream",
     "text": [
      "year wise who are in control:\n"
     ]
    },
    {
     "data": {
      "application/vnd.jupyter.widget-view+json": {
       "model_id": "e7c87c3d22184e418eef79ba02c8d837",
       "version_major": 2,
       "version_minor": 0
      },
      "text/plain": [
       "interactive(children=(Dropdown(description='theme', options=('plotly_dark', 'plotly_white', 'plotly', 'ggplot2…"
      ]
     },
     "metadata": {},
     "output_type": "display_data"
    }
   ],
   "source": [
    "print(\"year wise who are in control:\")\n",
    "\n",
    "@interact\n",
    "def plot_yearwise_control_stats(\n",
    "                                theme = [\"plotly_dark\", \"plotly_white\", \"plotly\", \"ggplot2\", \"seaborn\", \"simple_white\", \"none\"]\n",
    "                               ):\n",
    "    \n",
    "    year_control = processed_data[['year', 'control_stock']].groupby('year').control_stock.value_counts()\n",
    "    year_control.head(10)\n",
    "    df_year_control = pd.DataFrame(year_control)\n",
    "    df_year_control.columns = ['count']\n",
    "    df_year_control.reset_index(inplace = True)\n",
    "    df_year_control\n",
    "    fig = px.bar(df_year_control, x = 'control_stock', y = 'count', animation_frame = 'year', template = theme)\n",
    "    fig.show()\n"
   ]
  },
  {
   "cell_type": "code",
   "execution_count": 99,
   "metadata": {},
   "outputs": [
    {
     "name": "stdout",
     "output_type": "stream",
     "text": [
      "month wise who are in control:\n"
     ]
    },
    {
     "data": {
      "application/vnd.jupyter.widget-view+json": {
       "model_id": "4934268f7a1949168fd79c3b84326d8d",
       "version_major": 2,
       "version_minor": 0
      },
      "text/plain": [
       "interactive(children=(Dropdown(description='theme', options=('plotly_dark', 'plotly_white', 'plotly', 'ggplot2…"
      ]
     },
     "metadata": {},
     "output_type": "display_data"
    }
   ],
   "source": [
    "print(\"monthwise who are in control:\")\n",
    "\n",
    "@interact\n",
    "def plot_monthwise_control_stats(\n",
    "                                 theme = [\"plotly_dark\", \"plotly_white\", \"plotly\", \"ggplot2\", \"seaborn\", \"simple_white\", \"none\"]\n",
    "                                ):\n",
    "    month_control = processed_data[['month', 'control_stock']].groupby('month').control_stock.value_counts()\n",
    "    month_control.head(10)\n",
    "    df_month_control = pd.DataFrame(month_control)\n",
    "    df_month_control.columns = ['count']\n",
    "    df_month_control.reset_index(inplace = True)\n",
    "    df_month_control\n",
    "    fig = px.bar(df_month_control, x = 'control_stock', y = 'count', animation_frame = 'month', template = theme)\n",
    "    fig.show()"
   ]
  },
  {
   "cell_type": "code",
   "execution_count": 101,
   "metadata": {
    "scrolled": false
   },
   "outputs": [
    {
     "name": "stdout",
     "output_type": "stream",
     "text": [
      "daywise who are in control:\n"
     ]
    },
    {
     "data": {
      "application/vnd.jupyter.widget-view+json": {
       "model_id": "b9a230139a2f4f6691aa54280a41b4d3",
       "version_major": 2,
       "version_minor": 0
      },
      "text/plain": [
       "interactive(children=(Dropdown(description='theme', options=('plotly_dark', 'plotly_white', 'plotly', 'ggplot2…"
      ]
     },
     "metadata": {},
     "output_type": "display_data"
    }
   ],
   "source": [
    "print(\"daywise who are in control:\")\n",
    "\n",
    "@interact\n",
    "def plot_daywise_control_stats(\n",
    "                               theme = [\"plotly_dark\", \"plotly_white\", \"plotly\", \"ggplot2\", \"seaborn\", \"simple_white\", \"none\"]\n",
    "                              ):\n",
    "    day_control = processed_data[['dayofweek_name', 'control_stock']].groupby('dayofweek_name').control_stock.value_counts()\n",
    "    day_control.head(10)\n",
    "    df_day_control = pd.DataFrame(day_control)\n",
    "    df_day_control.columns = ['count']\n",
    "    df_day_control.reset_index(inplace = True)\n",
    "    df_day_control\n",
    "    fig = px.bar(df_day_control, x = 'control_stock', y = 'count', animation_frame = 'dayofweek_name', template = theme)\n",
    "    fig.show()\n",
    "    "
   ]
  },
  {
   "cell_type": "code",
   "execution_count": 61,
   "metadata": {},
   "outputs": [
    {
     "name": "stdout",
     "output_type": "stream",
     "text": [
      "violin plots of clsoing price vs week days:\n"
     ]
    },
    {
     "data": {
      "application/vnd.jupyter.widget-view+json": {
       "model_id": "53b73ce63e164182a065ca8e482ddb83",
       "version_major": 2,
       "version_minor": 0
      },
      "text/plain": [
       "interactive(children=(DatePicker(value=Timestamp('1991-01-02 00:00:00'), description='start_date'), DatePicker…"
      ]
     },
     "metadata": {},
     "output_type": "display_data"
    }
   ],
   "source": [
    "print(\"violin plots of clsoing price vs week days:\")\n",
    "\n",
    "@interact\n",
    "def plot_violin_closing_weekday(\n",
    "                                start_date=widgets.DatePicker(value=pd.to_datetime('1991-01-02')),\n",
    "                                end_date=widgets.DatePicker(value=pd.to_datetime('2020-06-19')),\n",
    "                                theme = [\"plotly_dark\", \"plotly_white\", \"plotly\", \"ggplot2\", \"seaborn\", \"simple_white\", \"none\"]\n",
    "                               ):\n",
    "    start_date = pd.to_datetime(start_date)\n",
    "    end_date = pd.to_datetime(end_date)\n",
    "    new_df = processed_data[(processed_data[\"Date\"] >= start_date) & (processed_data[\"Date\"] <= end_date)]\n",
    "    fig = px.violin(new_df, y = 'Close', x = 'dayofweek_name', box = True, template = theme)\n",
    "    fig.show()"
   ]
  }
 ],
 "metadata": {
  "kernelspec": {
   "display_name": "Python 3",
   "language": "python",
   "name": "python3"
  },
  "language_info": {
   "codemirror_mode": {
    "name": "ipython",
    "version": 3
   },
   "file_extension": ".py",
   "mimetype": "text/x-python",
   "name": "python",
   "nbconvert_exporter": "python",
   "pygments_lexer": "ipython3",
   "version": "3.7.6"
  }
 },
 "nbformat": 4,
 "nbformat_minor": 4
}
