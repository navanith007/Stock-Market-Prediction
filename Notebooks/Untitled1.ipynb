{
 "cells": [
  {
   "cell_type": "code",
   "execution_count": 1,
   "metadata": {},
   "outputs": [],
   "source": [
    "#https://stackoverflow.com/questions/8930370/where-can-i-find-mad-mean-absolute-deviation-in-scipy\n",
    "from numpy import mean, absolute\n",
    "\n",
    "def mad(data, axis=None):\n",
    "    return mean(absolute(data - mean(data, axis)), axis)"
   ]
  },
  {
   "cell_type": "code",
   "execution_count": 2,
   "metadata": {},
   "outputs": [],
   "source": [
    "#https://stackoverflow.com/questions/56789030/why-is-wavelet-denoising-producing-identical-results-regardless-of-threshold-lev\n",
    "def wavelet_denoising(series):\n",
    "    WAVELET = \"coif3\"\n",
    "    LEVEL = 3\n",
    "\n",
    "    signal = dataset[:, 0]\n",
    "    #mean = signal.mean()\n",
    "    #mean_series = [mean] * len(signal)\n",
    "    #signal = [a - b for a, b in zip(signal, mean_series)]\n",
    "\n",
    "    coeffs = pywt.wavedec(signal, WAVELET, level=LEVEL)\n",
    "    print(len(coeffs))\n",
    "    #print(coeffs[2])\n",
    "    sigma = mad(coeffs[-LEVEL])\n",
    "    threshold = sigma * np.sqrt(2*np.log(len(signal)))\n",
    "    #threshold=np.std(coeffs[2])\n",
    "    coeffs[1:] = (pywt.threshold(i, value=threshold, mode=\"hard\" ) for i in coeffs[1:])\n",
    "    reconstructed_signal = pywt.waverec(coeffs, WAVELET)\n",
    "    \n",
    "    return reconstructed_signal"
   ]
  },
  {
   "cell_type": "code",
   "execution_count": null,
   "metadata": {},
   "outputs": [],
   "source": [
    "import numpy as np\n",
    "def signaltonoise(a, axis=0, ddof=0):\n",
    "    a = np.asanyarray(a)\n",
    "    numerator = np.sum(a*a)\n",
    "    print(numerator)\n",
    "    m = [a.mean()] * len(a)\n",
    "    denominator = np.sum( (a - m ) * (a - m)) \n",
    "    print(denominator)\n",
    "    snr = 100*np.log10(numerator/denominator)\n",
    "    return snr"
   ]
  }
 ],
 "metadata": {
  "kernelspec": {
   "display_name": "Python 3",
   "language": "python",
   "name": "python3"
  },
  "language_info": {
   "codemirror_mode": {
    "name": "ipython",
    "version": 3
   },
   "file_extension": ".py",
   "mimetype": "text/x-python",
   "name": "python",
   "nbconvert_exporter": "python",
   "pygments_lexer": "ipython3",
   "version": "3.7.6"
  }
 },
 "nbformat": 4,
 "nbformat_minor": 4
}
